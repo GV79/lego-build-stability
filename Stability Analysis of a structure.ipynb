{
 "cells": [
  {
   "cell_type": "code",
   "execution_count": 94,
   "metadata": {},
   "outputs": [],
   "source": [
    "import numpy\n",
    "from scipy.spatial import ConvexHull, Delaunay\n",
    "import matplotlib.pyplot as plt"
   ]
  },
  {
   "cell_type": "code",
   "execution_count": 95,
   "metadata": {},
   "outputs": [],
   "source": [
    "# Function that uses Delaunay Triangulation to determine whether a point exists in the hull\n",
    "def in_hull(p, hull):\n",
    "    if not isinstance(hull, Delaunay):\n",
    "        hull = Delaunay(hull)\n",
    "\n",
    "    return hull.find_simplex(p) >= 0"
   ]
  },
  {
   "cell_type": "code",
   "execution_count": 96,
   "metadata": {},
   "outputs": [],
   "source": [
    "def in_support_polygon(point, support_list_x, support_list_z):\n",
    "    \"\"\"\n",
    "        Function that determines whether build is stable with param 'point' - xCOM, zCOM\n",
    "        Based on whether x_com and z_com COM values fall within support polygon\n",
    "        Params support_list_x and support_list_z containing coordinates that make point cloud (maybe combine into one?)\n",
    "    \"\"\"\n",
    "    support_polygon_vertices = list()  # array containing x-z coordinates\n",
    "    # points = numpy.random.randint(1, 10, size=(6, 3))   # generate 6 random points in 2-D space\n",
    "    points = numpy.column_stack((support_list_x, support_list_z))  # X-Z coordinates where y=0\n",
    "\n",
    "    hull = ConvexHull(points)\n",
    "    for item in hull.vertices:\n",
    "        support_polygon_vertices.append(points[item])\n",
    "    print(support_polygon_vertices)\n",
    "\n",
    "    # 3 following lines can be commented out when used in actual learning process\n",
    "    for simplex in hull.simplices:\n",
    "        plt.plot(points[simplex, 0], points[simplex, 1], 'k-')\n",
    "        plt.title('Boundary of Support Polygon')\n",
    "        plt.xlabel('x')\n",
    "        plt.ylabel('z', rotation=0)\n",
    "    plt.show()  # gives visual representation of convex hull of a point cloud\n",
    "\n",
    "    return in_hull([point], points)  # Pass in point and point cloud to in_hull function"
   ]
  },
  {
   "cell_type": "code",
   "execution_count": 97,
   "metadata": {},
   "outputs": [],
   "source": [
    "# Function that uses center of mass equation\n",
    "def calc_center_of_mass(list_param, mass):\n",
    "    temp_num = 0  # for temporary calculations for equations\n",
    "    temp_dem = 0  # for temporary calculations for equations\n",
    "    for item in list_param:\n",
    "        temp_num += mass*item\n",
    "        temp_dem += mass\n",
    "    return temp_num / temp_dem"
   ]
  },
  {
   "cell_type": "code",
   "execution_count": 98,
   "metadata": {},
   "outputs": [],
   "source": [
    "# Function that returns center of mass x,y,z values\n",
    "def find_center_of_mass(array_param):\n",
    "    mass_list_x = []\n",
    "    mass_list_y = []\n",
    "    mass_list_z = []\n",
    "    support_list_x = []\n",
    "    support_list_z = []\n",
    "\n",
    "    for x in range(len(array_param)):\n",
    "        for y in range(len(array_param[x])):\n",
    "            for z in range(len(array_param[x, y])):\n",
    "                if array_param[x, y, z] == 1:\n",
    "                    mass_list_x.append(x+0.5)\n",
    "                    mass_list_y.append(y+0.5)\n",
    "                    mass_list_z.append(z+0.5)\n",
    "                    if y == 0:\n",
    "                        # Each point has a boundary of 4 vertices\n",
    "                        support_list_x.append(x)\n",
    "                        support_list_z.append(z)\n",
    "                        support_list_x.append(x+1)\n",
    "                        support_list_z.append(z)\n",
    "                        support_list_x.append(x)\n",
    "                        support_list_z.append(z+1)\n",
    "                        support_list_x.append(x+1)\n",
    "                        support_list_z.append(z+1)\n",
    "\n",
    "    x_com = calc_center_of_mass(mass_list_x, 1)  # variables storing center of masses for each axis\n",
    "    y_com = calc_center_of_mass(mass_list_y, 1)\n",
    "    z_com = calc_center_of_mass(mass_list_z, 1)\n",
    "    print('Center of Mass X: %f' % x_com)\n",
    "    print('Center of Mass Y: %f' % y_com)\n",
    "    print('Center of Mass Z: %f' % z_com)\n",
    "    return {\n",
    "        \"x_com\": x_com,\n",
    "        \"y_com\": y_com,\n",
    "        \"z_com\": z_com,\n",
    "        \"support_list_x\": support_list_x,\n",
    "        \"support_list_z\": support_list_z\n",
    "    }"
   ]
  },
  {
   "cell_type": "code",
   "execution_count": 99,
   "metadata": {},
   "outputs": [],
   "source": [
    "# Function that finds neighbouring coordinates\n",
    "def find_adjacent_nodes(array_param, coordinate):\n",
    "    coord_parsed = coordinate.split(\"-\")\n",
    "    if array_param[int(coord_parsed[0]), int(coord_parsed[1]), int(coord_parsed[2])] == 0:\n",
    "        return []\n",
    "\n",
    "    neighbours = set()\n",
    "    x = int(coord_parsed[0])\n",
    "    y = int(coord_parsed[1])\n",
    "    z = int(coord_parsed[2])\n",
    "\n",
    "    try:\n",
    "        if array_param[x + 1][y][z] == 1:\n",
    "            neighbours.add(str(x+1) + \"-\" + str(y) + \"-\" + str(z))\n",
    "        if array_param[x - 1][y][z] == 1:\n",
    "            neighbours.add(str(x-1) + \"-\" + str(y) + \"-\" + str(z))\n",
    "        if array_param[x][y][z + 1] == 1:\n",
    "            neighbours.add(str(x) + \"-\" + str(y) + \"-\" + str(z+1))\n",
    "        if array_param[x][y][z - 1] == 1:\n",
    "            neighbours.add(str(x) + \"-\" + str(y) + \"-\" + str(z-1))\n",
    "        if array_param[x][y + 1][z] == 1:\n",
    "            neighbours.add(str(x) + \"-\" + str(y+1) + \"-\" + str(z))\n",
    "        return neighbours\n",
    "    except:\n",
    "        return set()"
   ]
  },
  {
   "cell_type": "code",
   "execution_count": 100,
   "metadata": {},
   "outputs": [],
   "source": [
    "# Dictionary for detecting multiple structures\n",
    "graph = {}"
   ]
  },
  {
   "cell_type": "code",
   "execution_count": 101,
   "metadata": {},
   "outputs": [],
   "source": [
    "# Creating global object with all paths\n",
    "def recursive_search(array_param, coordinate):\n",
    "    global graph\n",
    "    if coordinate not in graph:\n",
    "        temp = find_adjacent_nodes(array_param, coordinate)\n",
    "        coord_parsed = coordinate.split(\"-\")\n",
    "        if len(temp) == 0 or array_param[int(coord_parsed[0]), int(coord_parsed[1]), int(coord_parsed[2])] == 0:\n",
    "            return\n",
    "        else:\n",
    "            graph[coordinate] = temp\n",
    "            for item in graph[coordinate]:\n",
    "                recursive_search(array_param, item)\n",
    "    else:\n",
    "        return"
   ]
  },
  {
   "cell_type": "code",
   "execution_count": 102,
   "metadata": {},
   "outputs": [],
   "source": [
    "# Recursive search that returns an array of connections for a given coord\n",
    "def recursive_search_item(array_param, coordinate, temp_dict):\n",
    "    if coordinate not in temp_dict:\n",
    "        temp = find_adjacent_nodes(array_param, coordinate)\n",
    "        coord_parsed = coordinate.split(\"-\")\n",
    "        if len(temp) == 0 or array_param[int(coord_parsed[0]), int(coord_parsed[1]), int(coord_parsed[2])] == 0:\n",
    "            return temp_dict\n",
    "        else:\n",
    "            temp_dict[coordinate] = temp\n",
    "            for item in temp_dict[coordinate]:\n",
    "                recursive_search_item(array_param, item, temp_dict)\n",
    "            return temp_dict\n",
    "    else:\n",
    "        return temp_dict"
   ]
  },
  {
   "cell_type": "code",
   "execution_count": 103,
   "metadata": {},
   "outputs": [],
   "source": [
    "# Looks for multiple structures within 3D array\n",
    "def find_structures(array_param):\n",
    "    global graph\n",
    "    structures_list = []  # 2D array containing the different structures found in array\n",
    "    structures = 1\n",
    "    occupied_x_z_list = list()\n",
    "    blacklist = dict()\n",
    "    # blacklist: for coordinates that have been counted as part of a structure, can ignore all nodes directly linked\n",
    "\n",
    "    for x in range(len(array_param)):\n",
    "        for y in range(len(array_param[x])):\n",
    "            if y == 0:\n",
    "                for z in range(len(array_param[x, y])):\n",
    "                    if array_param[x, y, z] == 1:\n",
    "                        # '-' is delimiter between coordinates\n",
    "                        recursive_search(array_param, str(x)+\"-\"+str(y)+\"-\"+str(z))\n",
    "                        occupied_x_z_list.append([x, y, z])\n",
    "\n",
    "    if len(array_param) * len(array_param[x, y]) == len(occupied_x_z_list):\n",
    "        return 1\n",
    "\n",
    "    for i in occupied_x_z_list:\n",
    "        coord_string_one = str(i[0]) + \"-\" + str(i[1]) + \"-\" + str(i[2])\n",
    "        for j in occupied_x_z_list:\n",
    "            coord_string_two = str(j[0]) + \"-\" + str(j[1]) + \"-\" + str(j[2])\n",
    "            if coord_string_one in blacklist or coord_string_two in blacklist:\n",
    "                continue\n",
    "            elif i != j:\n",
    "                if find_shortest_path(graph, coord_string_one, coord_string_two, []) is None:\n",
    "                    temp_dict_one = recursive_search_item(array_param, coord_string_one, {})\n",
    "                    temp_dict_two = recursive_search_item(array_param, coord_string_two, {})\n",
    "                    blacklist.update(temp_dict_one)\n",
    "                    blacklist.update(temp_dict_two)\n",
    "\n",
    "                    structures_set = set([])\n",
    "                    for key in temp_dict_one:\n",
    "                        structures_set.add(key)\n",
    "                        for value in temp_dict_one[key]:\n",
    "                            structures_set.add(value)\n",
    "                    structures_list.append(structures_set)\n",
    "\n",
    "                    structures_set = set([])\n",
    "                    for key in temp_dict_two:\n",
    "                        structures_set.add(key)\n",
    "                        for value in temp_dict_two[key]:\n",
    "                            structures_set.add(value)\n",
    "                    structures_list.append(structures_set)\n",
    "\n",
    "                    # structures_list.append(temp_dict_two.keys())\n",
    "                    structures += 1\n",
    "    return {\"structures\": structures, \"structures_list\": structures_list}"
   ]
  },
  {
   "cell_type": "code",
   "execution_count": 104,
   "metadata": {},
   "outputs": [],
   "source": [
    "# Returns null if no path between coordinates (for multiple structure finding)\n",
    "def find_shortest_path(graph_param, start, end, path=[]):\n",
    "    path = path + [start]\n",
    "    if start == end:\n",
    "        return path\n",
    "    if start not in graph_param:\n",
    "        return None\n",
    "    shortest = None\n",
    "    for node in graph_param[start]:\n",
    "        if node not in path:\n",
    "            new_path = find_shortest_path(graph_param, node, end, path)\n",
    "            if new_path:\n",
    "                if not shortest or len(new_path) < len(shortest):\n",
    "                    shortest = new_path\n",
    "    return shortest"
   ]
  },
  {
   "cell_type": "code",
   "execution_count": 105,
   "metadata": {},
   "outputs": [],
   "source": [
    "def calculate_stability(array_param, x, y, z):\n",
    "    \"\"\"\n",
    "        Function that will execute multiple structure searching and then individual COM calculations\n",
    "        Instead of passing x y z for creating new numpy arrays for each structure, could look at\n",
    "        each structure's bounds and create a minimally sized array to wrap it so that its faster\n",
    "    \"\"\"\n",
    "    global graph\n",
    "    structures_obj = find_structures(array_param)\n",
    "    structures = structures_obj[\"structures\"]\n",
    "    structures_list = structures_obj[\"structures_list\"]\n",
    "\n",
    "    print('%d structure(s) were found within the array' % structures)\n",
    "\n",
    "    if structures == 1:\n",
    "        com_object = find_center_of_mass(array_param)\n",
    "        x_com = com_object[\"x_com\"]\n",
    "        z_com = com_object[\"z_com\"]\n",
    "        support_list_x = com_object[\"support_list_x\"]\n",
    "        support_list_z = com_object[\"support_list_z\"]\n",
    "        if in_support_polygon([x_com, z_com], support_list_x, support_list_z):\n",
    "            print('Point (%f, %f) is inside the support polygon' % (x_com, z_com))\n",
    "            print('Therefore, the structure is stable.')\n",
    "            return {\"stability\": True, \"structures\": 1}\n",
    "        else:\n",
    "            print('Point (%f, %f) is not inside the support polygon' % (x_com, z_com))\n",
    "            print('Therefore, the structure is unstable.')\n",
    "            return {\"stability\": False, \"structures\": 1}\n",
    "\n",
    "    else:\n",
    "        print(structures_list)\n",
    "        for i in structures_list:\n",
    "            temp_world_array = numpy.zeros((x, y, z))\n",
    "            for j in i:\n",
    "                coords_parsed = j.split(\"-\")\n",
    "                temp_world_array[int(coords_parsed[0]), int(coords_parsed[1]), int(coords_parsed[2])] = 1\n",
    "            graph = {}\n",
    "            com_object = find_center_of_mass(temp_world_array)\n",
    "            x_com = com_object[\"x_com\"]\n",
    "            z_com = com_object[\"z_com\"]\n",
    "            support_list_x = com_object[\"support_list_x\"]\n",
    "            support_list_z = com_object[\"support_list_z\"]\n",
    "            if in_support_polygon([x_com, z_com], support_list_x, support_list_z):\n",
    "                print('Point (%f, %f) is inside the support polygon' % (x_com, z_com))\n",
    "                print('Therefore, the structure is stable.')\n",
    "                return {\"stability\": True, \"structures\": structures}\n",
    "            else:\n",
    "                print('Point (%f, %f) is not inside the support polygon' % (x_com, z_com))\n",
    "                print('Therefore, the structure is unstable.')\n",
    "                return {\"stability\": False, \"structures\": structures}"
   ]
  },
  {
   "cell_type": "code",
   "execution_count": 106,
   "metadata": {},
   "outputs": [],
   "source": [
    "# Initializing example 3D input function would receive (params x=6,y=10,z=6)\n",
    "array = numpy.zeros((10, 10, 6))"
   ]
  },
  {
   "cell_type": "code",
   "execution_count": 107,
   "metadata": {},
   "outputs": [],
   "source": [
    "''' This block generates a build that should pass stability check: Scenario 2 '''\n",
    "\n",
    "# Adding 2x4x1 base (width x length x height)\n",
    "array[1][0][1] = '1'\n",
    "array[2][0][1] = '1'\n",
    "array[3][0][1] = '1'\n",
    "array[4][0][1] = '1'\n",
    "array[1][0][2] = '1'\n",
    "array[2][0][2] = '1'\n",
    "array[3][0][2] = '1'\n",
    "array[4][0][2] = '1'\n",
    "\n",
    "# Adding 1x1x2 block (width x length x height) on top of base\n",
    "array[2][1][1] = '1'\n",
    "array[2][2][1] = '1'\n",
    "\n",
    "# Adding 1x4x1 block on top of 1x1x2 block\n",
    "array[2][3][1] = '1'\n",
    "array[3][3][1] = '1'\n",
    "array[4][3][1] = '1'\n",
    "array[5][3][1] = '1'"
   ]
  },
  {
   "cell_type": "code",
   "execution_count": 108,
   "metadata": {},
   "outputs": [
    {
     "data": {
      "text/html": [
       "<img src=\"./scenario2.png\", width=300, height=400>\n"
      ],
      "text/plain": [
       "<IPython.core.display.HTML object>"
      ]
     },
     "metadata": {},
     "output_type": "display_data"
    }
   ],
   "source": [
    "%%html\n",
    "<img src=\"./scenario2.png\", width=300, height=400>"
   ]
  },
  {
   "cell_type": "code",
   "execution_count": 109,
   "metadata": {},
   "outputs": [
    {
     "name": "stdout",
     "output_type": "stream",
     "text": [
      "1 structure(s) were found within the array\n",
      "Center of Mass X: 3.214286\n",
      "Center of Mass Y: 1.571429\n",
      "Center of Mass Z: 1.785714\n",
      "[array([1, 1]), array([5, 1]), array([5, 3]), array([1, 3])]\n"
     ]
    },
    {
     "data": {
      "image/png": "[encoded data removed]",
      "text/plain": [
       "<Figure size 432x288 with 1 Axes>"
      ]
     },
     "metadata": {
      "needs_background": "light"
     },
     "output_type": "display_data"
    },
    {
     "name": "stdout",
     "output_type": "stream",
     "text": [
      "Point (3.214286, 1.785714) is inside the support polygon\n",
      "Therefore, the structure is stable.\n"
     ]
    },
    {
     "data": {
      "text/plain": [
       "{'stability': True, 'structures': 1}"
      ]
     },
     "execution_count": 109,
     "metadata": {},
     "output_type": "execute_result"
    }
   ],
   "source": [
    "''' Executing code'''\n",
    "calculate_stability(array, 10, 10, 6)"
   ]
  }
 ],
 "metadata": {
  "kernelspec": {
   "display_name": "Python 3",
   "language": "python",
   "name": "python3"
  },
  "language_info": {
   "codemirror_mode": {
    "name": "ipython",
    "version": 3
   },
   "file_extension": ".py",
   "mimetype": "text/x-python",
   "name": "python",
   "nbconvert_exporter": "python",
   "pygments_lexer": "ipython3",
   "version": "3.7.4"
  }
 },
 "nbformat": 4,
 "nbformat_minor": 2
}
